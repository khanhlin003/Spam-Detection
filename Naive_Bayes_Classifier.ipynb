{
 "cells": [
  {
   "cell_type": "markdown",
   "metadata": {
    "id": "X7EzXxJ_hsXv"
   },
   "source": [
    "# Naive Bayes Classifier"
   ]
  },
  {
   "cell_type": "code",
   "execution_count": 1,
   "metadata": {
    "colab": {
     "base_uri": "https://localhost:8080/",
     "height": 73
    },
    "id": "DdkcRgLOLb6_",
    "outputId": "b4e2cac8-560e-4fa9-c5c8-f10389ab4fcb"
   },
   "outputs": [],
   "source": [
    "import pandas as pd"
   ]
  },
  {
   "cell_type": "code",
   "execution_count": 2,
   "metadata": {
    "colab": {
     "base_uri": "https://localhost:8080/",
     "height": 253
    },
    "id": "UMeiCtfXLcmC",
    "outputId": "7ef53d6a-f146-4fd9-a19b-b91614b6962a"
   },
   "outputs": [
    {
     "name": "stdout",
     "output_type": "stream",
     "text": [
      "(5172, 3001)\n"
     ]
    },
    {
     "data": {
      "text/html": [
       "<div>\n",
       "<style scoped>\n",
       "    .dataframe tbody tr th:only-of-type {\n",
       "        vertical-align: middle;\n",
       "    }\n",
       "\n",
       "    .dataframe tbody tr th {\n",
       "        vertical-align: top;\n",
       "    }\n",
       "\n",
       "    .dataframe thead th {\n",
       "        text-align: right;\n",
       "    }\n",
       "</style>\n",
       "<table border=\"1\" class=\"dataframe\">\n",
       "  <thead>\n",
       "    <tr style=\"text-align: right;\">\n",
       "      <th></th>\n",
       "      <th>the</th>\n",
       "      <th>to</th>\n",
       "      <th>ect</th>\n",
       "      <th>and</th>\n",
       "      <th>for</th>\n",
       "      <th>of</th>\n",
       "      <th>a</th>\n",
       "      <th>you</th>\n",
       "      <th>hou</th>\n",
       "      <th>in</th>\n",
       "      <th>...</th>\n",
       "      <th>connevey</th>\n",
       "      <th>jay</th>\n",
       "      <th>valued</th>\n",
       "      <th>lay</th>\n",
       "      <th>infrastructure</th>\n",
       "      <th>military</th>\n",
       "      <th>allowing</th>\n",
       "      <th>ff</th>\n",
       "      <th>dry</th>\n",
       "      <th>Label</th>\n",
       "    </tr>\n",
       "  </thead>\n",
       "  <tbody>\n",
       "    <tr>\n",
       "      <th>0</th>\n",
       "      <td>0</td>\n",
       "      <td>0</td>\n",
       "      <td>1</td>\n",
       "      <td>0</td>\n",
       "      <td>0</td>\n",
       "      <td>0</td>\n",
       "      <td>2</td>\n",
       "      <td>0</td>\n",
       "      <td>0</td>\n",
       "      <td>0</td>\n",
       "      <td>...</td>\n",
       "      <td>0</td>\n",
       "      <td>0</td>\n",
       "      <td>0</td>\n",
       "      <td>0</td>\n",
       "      <td>0</td>\n",
       "      <td>0</td>\n",
       "      <td>0</td>\n",
       "      <td>0</td>\n",
       "      <td>0</td>\n",
       "      <td>0</td>\n",
       "    </tr>\n",
       "    <tr>\n",
       "      <th>1</th>\n",
       "      <td>8</td>\n",
       "      <td>13</td>\n",
       "      <td>24</td>\n",
       "      <td>6</td>\n",
       "      <td>6</td>\n",
       "      <td>2</td>\n",
       "      <td>102</td>\n",
       "      <td>1</td>\n",
       "      <td>27</td>\n",
       "      <td>18</td>\n",
       "      <td>...</td>\n",
       "      <td>0</td>\n",
       "      <td>0</td>\n",
       "      <td>0</td>\n",
       "      <td>0</td>\n",
       "      <td>0</td>\n",
       "      <td>0</td>\n",
       "      <td>0</td>\n",
       "      <td>1</td>\n",
       "      <td>0</td>\n",
       "      <td>0</td>\n",
       "    </tr>\n",
       "    <tr>\n",
       "      <th>2</th>\n",
       "      <td>0</td>\n",
       "      <td>0</td>\n",
       "      <td>1</td>\n",
       "      <td>0</td>\n",
       "      <td>0</td>\n",
       "      <td>0</td>\n",
       "      <td>8</td>\n",
       "      <td>0</td>\n",
       "      <td>0</td>\n",
       "      <td>4</td>\n",
       "      <td>...</td>\n",
       "      <td>0</td>\n",
       "      <td>0</td>\n",
       "      <td>0</td>\n",
       "      <td>0</td>\n",
       "      <td>0</td>\n",
       "      <td>0</td>\n",
       "      <td>0</td>\n",
       "      <td>0</td>\n",
       "      <td>0</td>\n",
       "      <td>0</td>\n",
       "    </tr>\n",
       "    <tr>\n",
       "      <th>3</th>\n",
       "      <td>0</td>\n",
       "      <td>5</td>\n",
       "      <td>22</td>\n",
       "      <td>0</td>\n",
       "      <td>5</td>\n",
       "      <td>1</td>\n",
       "      <td>51</td>\n",
       "      <td>2</td>\n",
       "      <td>10</td>\n",
       "      <td>1</td>\n",
       "      <td>...</td>\n",
       "      <td>0</td>\n",
       "      <td>0</td>\n",
       "      <td>0</td>\n",
       "      <td>0</td>\n",
       "      <td>0</td>\n",
       "      <td>0</td>\n",
       "      <td>0</td>\n",
       "      <td>0</td>\n",
       "      <td>0</td>\n",
       "      <td>0</td>\n",
       "    </tr>\n",
       "    <tr>\n",
       "      <th>4</th>\n",
       "      <td>7</td>\n",
       "      <td>6</td>\n",
       "      <td>17</td>\n",
       "      <td>1</td>\n",
       "      <td>5</td>\n",
       "      <td>2</td>\n",
       "      <td>57</td>\n",
       "      <td>0</td>\n",
       "      <td>9</td>\n",
       "      <td>3</td>\n",
       "      <td>...</td>\n",
       "      <td>0</td>\n",
       "      <td>0</td>\n",
       "      <td>0</td>\n",
       "      <td>0</td>\n",
       "      <td>0</td>\n",
       "      <td>0</td>\n",
       "      <td>0</td>\n",
       "      <td>1</td>\n",
       "      <td>0</td>\n",
       "      <td>0</td>\n",
       "    </tr>\n",
       "  </tbody>\n",
       "</table>\n",
       "<p>5 rows × 3001 columns</p>\n",
       "</div>"
      ],
      "text/plain": [
       "   the  to  ect  and  for  of    a  you  hou  in  ...  connevey  jay  valued  \\\n",
       "0    0   0    1    0    0   0    2    0    0   0  ...         0    0       0   \n",
       "1    8  13   24    6    6   2  102    1   27  18  ...         0    0       0   \n",
       "2    0   0    1    0    0   0    8    0    0   4  ...         0    0       0   \n",
       "3    0   5   22    0    5   1   51    2   10   1  ...         0    0       0   \n",
       "4    7   6   17    1    5   2   57    0    9   3  ...         0    0       0   \n",
       "\n",
       "   lay  infrastructure  military  allowing  ff  dry  Label  \n",
       "0    0               0         0         0   0    0      0  \n",
       "1    0               0         0         0   1    0      0  \n",
       "2    0               0         0         0   0    0      0  \n",
       "3    0               0         0         0   0    0      0  \n",
       "4    0               0         0         0   1    0      0  \n",
       "\n",
       "[5 rows x 3001 columns]"
      ]
     },
     "execution_count": 2,
     "metadata": {},
     "output_type": "execute_result"
    }
   ],
   "source": [
    "emails = pd.read_csv('cleaned-movie-dataset.csv')\n",
    "emails.drop(emails.columns[0], axis=1, inplace=True)\n",
    "print(emails.shape)\n",
    "emails.head()"
   ]
  },
  {
   "cell_type": "code",
   "execution_count": 3,
   "metadata": {
    "colab": {
     "base_uri": "https://localhost:8080/"
    },
    "id": "iJTR7K89Lcod",
    "outputId": "ac565459-cec6-4520-aa9b-e6653ec0a536"
   },
   "outputs": [
    {
     "data": {
      "text/plain": [
       "0    0.709977\n",
       "1    0.290023\n",
       "Name: Label, dtype: float64"
      ]
     },
     "execution_count": 3,
     "metadata": {},
     "output_type": "execute_result"
    }
   ],
   "source": [
    "emails['Label'].value_counts(normalize=True)"
   ]
  },
  {
   "cell_type": "markdown",
   "metadata": {
    "id": "hb_AJqTdQIcz"
   },
   "source": [
    "## Training and Test Set"
   ]
  },
  {
   "cell_type": "code",
   "execution_count": 4,
   "metadata": {
    "colab": {
     "base_uri": "https://localhost:8080/"
    },
    "id": "uQuXD63lPyoQ",
    "outputId": "d61f4f39-b83f-4aba-ae28-6a784f03a84f"
   },
   "outputs": [
    {
     "name": "stdout",
     "output_type": "stream",
     "text": [
      "Training Set: (4138, 3001)\n",
      "Test Set: (1034, 3001)\n"
     ]
    }
   ],
   "source": [
    "# Randomize the dataset\n",
    "data_randomized = emails.sample(frac=1, random_state=1)\n",
    "\n",
    "# Calculate index for split\n",
    "training_test_index = round(len(data_randomized) * 0.8)\n",
    "\n",
    "# Split into training and test sets\n",
    "training_set = data_randomized[:training_test_index].reset_index(drop=True)\n",
    "test_set = data_randomized[training_test_index:].reset_index(drop=True)\n",
    "\n",
    "print(\"Training Set:\", training_set.shape)\n",
    "print(\"Test Set:\", test_set.shape)"
   ]
  },
  {
   "cell_type": "code",
   "execution_count": 5,
   "metadata": {
    "colab": {
     "base_uri": "https://localhost:8080/"
    },
    "id": "SZwQqhcOPyqt",
    "outputId": "7dd7387c-810a-47e4-91cc-4e55df442226"
   },
   "outputs": [
    {
     "data": {
      "text/plain": [
       "0    0.711455\n",
       "1    0.288545\n",
       "Name: Label, dtype: float64"
      ]
     },
     "execution_count": 5,
     "metadata": {},
     "output_type": "execute_result"
    }
   ],
   "source": [
    "training_set['Label'].value_counts(normalize=True)"
   ]
  },
  {
   "cell_type": "code",
   "execution_count": 6,
   "metadata": {
    "colab": {
     "base_uri": "https://localhost:8080/"
    },
    "id": "qOrTtAQaPytu",
    "outputId": "b1e3e5ef-641b-49e4-961c-0566f072fc3a"
   },
   "outputs": [
    {
     "data": {
      "text/plain": [
       "0    0.704062\n",
       "1    0.295938\n",
       "Name: Label, dtype: float64"
      ]
     },
     "execution_count": 6,
     "metadata": {},
     "output_type": "execute_result"
    }
   ],
   "source": [
    "test_set['Label'].value_counts(normalize=True)"
   ]
  },
  {
   "cell_type": "markdown",
   "metadata": {
    "id": "-pDeB2C6gjnK"
   },
   "source": [
    "## Creating Vocabulary"
   ]
  },
  {
   "cell_type": "code",
   "execution_count": 7,
   "metadata": {
    "colab": {
     "base_uri": "https://localhost:8080/"
    },
    "id": "Wr5Vr5c8bU2V",
    "outputId": "c2a4e020-156f-4ba8-9fc1-57eb7add8f1d"
   },
   "outputs": [
    {
     "name": "stdout",
     "output_type": "stream",
     "text": [
      "Vocabulary length: 3000\n"
     ]
    }
   ],
   "source": [
    "vocabulary = list(emails.columns)\n",
    "vocabulary.remove('Label')\n",
    "print(\"Vocabulary length:\", len(vocabulary))"
   ]
  },
  {
   "cell_type": "markdown",
   "metadata": {
    "id": "QUebDFgoSJRn"
   },
   "source": [
    "## Calculating Constants"
   ]
  },
  {
   "cell_type": "code",
   "execution_count": 8,
   "metadata": {
    "id": "R7n3MQm4Pywe"
   },
   "outputs": [],
   "source": [
    "# Isolating spam and non-spam messages first\n",
    "spam_messages = training_set[training_set['Label'] == 1]\n",
    "non_spam_messages = training_set[training_set['Label'] == 0]\n",
    "\n",
    "# P(Spam) and P(Non-Spam)\n",
    "p_spam = len(spam_messages) / len(training_set)\n",
    "p_non_spam = len(non_spam_messages) / len(training_set)\n",
    "\n",
    "# N_Spam\n",
    "n_spam = spam_messages.iloc[:,1:-1].sum().sum()\n",
    "\n",
    "# N_Non-Spam\n",
    "n_non_spam = non_spam_messages.iloc[:,1:-1].sum().sum()\n",
    "\n",
    "# N_Vocabulary\n",
    "n_vocabulary = len(vocabulary)\n",
    "\n",
    "# Laplace smoothing\n",
    "alpha = 1"
   ]
  },
  {
   "cell_type": "markdown",
   "metadata": {
    "id": "fSLm-iNdbHjc"
   },
   "source": [
    "## Calculating Parameters"
   ]
  },
  {
   "cell_type": "code",
   "execution_count": 9,
   "metadata": {
    "id": "Zy0RZhjHHWs7"
   },
   "outputs": [],
   "source": [
    "# Initiate parameters\n",
    "parameters_spam = {unique_word:0 for unique_word in vocabulary}\n",
    "parameters_non_spam = {unique_word:0 for unique_word in vocabulary}\n",
    "\n",
    "# Calculate parameters\n",
    "for word in vocabulary:\n",
    "    n_word_given_spam = spam_messages[word].sum() # spam_messages already defined\n",
    "    p_word_given_spam = (n_word_given_spam + alpha) / (n_spam + alpha*n_vocabulary)\n",
    "    parameters_spam[word] = p_word_given_spam\n",
    "\n",
    "    n_word_given_non_spam = non_spam_messages[word].sum() # non_spam_messages already defined\n",
    "    p_word_given_non_spam = (n_word_given_non_spam + alpha) / (n_non_spam + alpha*n_vocabulary)\n",
    "    parameters_non_spam[word] = p_word_given_non_spam"
   ]
  },
  {
   "cell_type": "markdown",
   "metadata": {
    "id": "2mi0r64OhuaA"
   },
   "source": [
    "## Measuring Spam Filter's Accuracy, Precision, Recall & F1 Score"
   ]
  },
  {
   "cell_type": "code",
   "execution_count": 10,
   "metadata": {
    "colab": {
     "base_uri": "https://localhost:8080/"
    },
    "id": "FnkYOWBMKA1f",
    "outputId": "e6113ebc-e2d2-4796-b96f-9e0a28e2a26a"
   },
   "outputs": [],
   "source": [
    "import math\n",
    "\n",
    "TP = 0    # True Positive\n",
    "FP = 0    # False Positive\n",
    "TN = 0    # True Negative\n",
    "FN = 0    # False Negative\n",
    "row = 0\n",
    "\n",
    "for i in range(len(test_set)):\n",
    "    message = test_set.iloc[row:row+1, :-1]\n",
    "    word_count = message.sum()\n",
    "    p_spam_given_message = p_spam\n",
    "    p_non_spam_given_message = p_non_spam\n",
    "    col = 0\n",
    "\n",
    "    for word in message:\n",
    "        if word in parameters_spam:\n",
    "            for count in range(word_count[col]):\n",
    "                p_spam_given_message += math.log(parameters_spam[word])\n",
    "        if word in parameters_non_spam:\n",
    "            for count in range(word_count[col]):\n",
    "                p_non_spam_given_message += math.log(parameters_non_spam[word])\n",
    "        col += 1;\n",
    "\n",
    "    if p_non_spam_given_message > p_spam_given_message:\n",
    "        if test_set.iloc[row:row+1,-1:].sum().sum() == 0:\n",
    "            TN += 1\n",
    "        else:\n",
    "            FN += 1\n",
    "\n",
    "    elif p_spam_given_message > p_non_spam_given_message:\n",
    "        if test_set.iloc[row:row+1,-1:].sum().sum() == 1:\n",
    "            TP += 1\n",
    "        else:\n",
    "            FP += 1\n",
    "\n",
    "    row += 1"
   ]
  },
  {
   "cell_type": "code",
   "execution_count": 11,
   "metadata": {},
   "outputs": [
    {
     "data": {
      "text/plain": [
       "<AxesSubplot:>"
      ]
     },
     "execution_count": 11,
     "metadata": {},
     "output_type": "execute_result"
    },
    {
     "data": {
      "image/png": "[encoded data removed]",
      "text/plain": [
       "<Figure size 640x480 with 2 Axes>"
      ]
     },
     "metadata": {},
     "output_type": "display_data"
    }
   ],
   "source": [
    "import seaborn as sb\n",
    "import matplotlib.pyplot as plt\n",
    "\n",
    "Confusion_Matrix = [[TN, FP],\n",
    "                    [FN, TP]]\n",
    "\n",
    "cm_df = pd.DataFrame(Confusion_Matrix, range(2), range(2))\n",
    "sb.heatmap(cm_df, annot=True,  fmt=\".0f\", annot_kws={\"size\": 16})"
   ]
  },
  {
   "cell_type": "markdown",
   "metadata": {},
   "source": [
    "| Confusion Matrix  |       |        |        |\n",
    "| :---              | :---: | :----: | :----: |\n",
    "| Actual Negative   |  (0)  |   TN   |   FP   |\n",
    "| Actual Positive   |  (1)  |   FN   |   TP   |\n",
    "|                   |       |   (0)   |   (1)   |\n",
    "|                   |       | Predicted Negative    |   Predicted Postitive  |"
   ]
  },
  {
   "cell_type": "code",
   "execution_count": 12,
   "metadata": {},
   "outputs": [
    {
     "name": "stdout",
     "output_type": "stream",
     "text": [
      "Correct   : 970\n",
      "Incorrect : 64\n",
      "Accuracy  : 0.9381044487427466\n",
      "Precision : 0.8477011494252874\n",
      "Recall    : 0.9640522875816994\n",
      "F1 Score  : 0.9021406727828746\n"
     ]
    }
   ],
   "source": [
    "Correct = TP + TN\n",
    "Incorrect = FP + FN\n",
    "Accuracy = (TN + TP) / (TN + FP + TP + FN)\n",
    "Precision = TP / (TP + FP)\n",
    "Recall = TP / (TP + FN)\n",
    "F1_Score = (2 * Precision * Recall) / (Precision + Recall)\n",
    "\n",
    "print(\"Correct   :\", Correct)\n",
    "print(\"Incorrect :\", Incorrect)\n",
    "print(\"Accuracy  :\", Accuracy)\n",
    "print(\"Precision :\", Precision)\n",
    "print(\"Recall    :\", Recall)\n",
    "print(\"F1 Score  :\", F1_Score)"
   ]
  },
  {
   "cell_type": "markdown",
   "metadata": {
    "id": "PCeJzepags9W"
   },
   "source": [
    "## Classifying a New Message"
   ]
  },
  {
   "cell_type": "code",
   "execution_count": 13,
   "metadata": {
    "id": "4yqLIpFJgwmv"
   },
   "outputs": [],
   "source": [
    "import re\n",
    "\n",
    "def classify(message):\n",
    "    '''\n",
    "    message: a string\n",
    "    '''\n",
    "\n",
    "    message = re.sub('\\W', ' ', message)\n",
    "    message = message.lower().split()\n",
    "\n",
    "    p_spam_given_message = p_spam\n",
    "    p_non_spam_given_message = p_non_spam\n",
    "\n",
    "    for word in message:\n",
    "        if word in parameters_spam:\n",
    "            p_spam_given_message += math.log(parameters_spam[word])\n",
    "\n",
    "        if word in parameters_non_spam: \n",
    "            p_non_spam_given_message += math.log(parameters_non_spam[word])\n",
    "\n",
    "        if word not in vocabulary:\n",
    "            vocabulary.append(word)\n",
    "\n",
    "            n_word_given_spam = 0\n",
    "            p_word_given_spam = (n_word_given_spam + alpha) / (n_spam + alpha*n_vocabulary)\n",
    "            parameters_spam[word] = p_word_given_spam\n",
    "\n",
    "            n_word_given_non_spam = 0\n",
    "            p_word_given_non_spam = (n_word_given_non_spam + alpha) / (n_non_spam + alpha*n_vocabulary)\n",
    "            parameters_non_spam[word] = p_word_given_non_spam\n",
    "\n",
    "    print('P(Spam|message)     :', p_spam_given_message)\n",
    "    print('P(Non-Spam|message) :', p_non_spam_given_message)\n",
    "\n",
    "    if p_non_spam_given_message > p_spam_given_message:\n",
    "        print('Label: Non-Spam')\n",
    "    elif p_non_spam_given_message < p_spam_given_message:\n",
    "        print('Label: Spam')\n",
    "    else:\n",
    "        print('Equal probabilities, have a human classify this!')"
   ]
  },
  {
   "cell_type": "code",
   "execution_count": 14,
   "metadata": {
    "colab": {
     "base_uri": "https://localhost:8080/"
    },
    "id": "LWSv1DfEhYev",
    "outputId": "2984d754-8ea5-4454-f877-fcd01ecbff93",
    "scrolled": true
   },
   "outputs": [
    {
     "name": "stdout",
     "output_type": "stream",
     "text": [
      "P(Spam|message)     : -59.02629883921614\n",
      "P(Non-Spam|message) : -63.56031284216574\n",
      "Label: Spam\n"
     ]
    }
   ],
   "source": [
    "classify(\"sign up for this scam prize money guaranteed\")"
   ]
  }
 ],
 "metadata": {
  "colab": {
   "provenance": []
  },
  "kernelspec": {
   "display_name": "Python 3 (ipykernel)",
   "language": "python",
   "name": "python3"
  },
  "language_info": {
   "codemirror_mode": {
    "name": "ipython",
    "version": 3
   },
   "file_extension": ".py",
   "mimetype": "text/x-python",
   "name": "python",
   "nbconvert_exporter": "python",
   "pygments_lexer": "ipython3",
   "version": "3.9.13"
  }
 },
 "nbformat": 4,
 "nbformat_minor": 1
}
